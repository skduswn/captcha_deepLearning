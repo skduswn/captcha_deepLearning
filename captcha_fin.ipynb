{
  "nbformat": 4,
  "nbformat_minor": 0,
  "metadata": {
    "colab": {
      "provenance": [],
      "include_colab_link": true
    },
    "kernelspec": {
      "name": "python3",
      "display_name": "Python 3"
    },
    "language_info": {
      "name": "python"
    },
    "accelerator": "GPU",
    "widgets": {
      "application/vnd.jupyter.widget-state+json": {
        "1d12565b2dc0413f9806cab98ce13090": {
          "model_module": "@jupyter-widgets/controls",
          "model_name": "HBoxModel",
          "model_module_version": "1.5.0",
          "state": {
            "_view_name": "HBoxView",
            "_dom_classes": [],
            "_model_name": "HBoxModel",
            "_view_module": "@jupyter-widgets/controls",
            "_model_module_version": "1.5.0",
            "_view_count": null,
            "_view_module_version": "1.5.0",
            "box_style": "",
            "layout": "IPY_MODEL_72b631aa587f4d26b8d273e2b79d9e1a",
            "_model_module": "@jupyter-widgets/controls",
            "children": [
              "IPY_MODEL_294c5f67d2bf4825896469f3e6e8eb22",
              "IPY_MODEL_8539ece443c3416ea01b654641889575",
              "IPY_MODEL_250543b48d5c4cf18b1ea41d0fb0e1bd"
            ]
          }
        },
        "72b631aa587f4d26b8d273e2b79d9e1a": {
          "model_module": "@jupyter-widgets/base",
          "model_name": "LayoutModel",
          "model_module_version": "1.2.0",
          "state": {
            "_view_name": "LayoutView",
            "grid_template_rows": null,
            "right": null,
            "justify_content": null,
            "_view_module": "@jupyter-widgets/base",
            "overflow": null,
            "_model_module_version": "1.2.0",
            "_view_count": null,
            "flex_flow": null,
            "width": null,
            "min_width": null,
            "border": null,
            "align_items": null,
            "bottom": null,
            "_model_module": "@jupyter-widgets/base",
            "top": null,
            "grid_column": null,
            "overflow_y": null,
            "overflow_x": null,
            "grid_auto_flow": null,
            "grid_area": null,
            "grid_template_columns": null,
            "flex": null,
            "_model_name": "LayoutModel",
            "justify_items": null,
            "grid_row": null,
            "max_height": null,
            "align_content": null,
            "visibility": null,
            "align_self": null,
            "height": null,
            "min_height": null,
            "padding": null,
            "grid_auto_rows": null,
            "grid_gap": null,
            "max_width": null,
            "order": null,
            "_view_module_version": "1.2.0",
            "grid_template_areas": null,
            "object_position": null,
            "object_fit": null,
            "grid_auto_columns": null,
            "margin": null,
            "display": null,
            "left": null
          }
        },
        "294c5f67d2bf4825896469f3e6e8eb22": {
          "model_module": "@jupyter-widgets/controls",
          "model_name": "HTMLModel",
          "model_module_version": "1.5.0",
          "state": {
            "_view_name": "HTMLView",
            "style": "IPY_MODEL_db57692c8120454d9293cfe3ad3afeab",
            "_dom_classes": [],
            "description": "",
            "_model_name": "HTMLModel",
            "placeholder": "​",
            "_view_module": "@jupyter-widgets/controls",
            "_model_module_version": "1.5.0",
            "value": "100%",
            "_view_count": null,
            "_view_module_version": "1.5.0",
            "description_tooltip": null,
            "_model_module": "@jupyter-widgets/controls",
            "layout": "IPY_MODEL_e844f1bfe7a34894857728b685154dfd"
          }
        },
        "8539ece443c3416ea01b654641889575": {
          "model_module": "@jupyter-widgets/controls",
          "model_name": "FloatProgressModel",
          "model_module_version": "1.5.0",
          "state": {
            "_view_name": "ProgressView",
            "style": "IPY_MODEL_f5840781a807452a83ea120332249dcd",
            "_dom_classes": [],
            "description": "",
            "_model_name": "FloatProgressModel",
            "bar_style": "success",
            "max": 87319819,
            "_view_module": "@jupyter-widgets/controls",
            "_model_module_version": "1.5.0",
            "value": 87319819,
            "_view_count": null,
            "_view_module_version": "1.5.0",
            "orientation": "horizontal",
            "min": 0,
            "description_tooltip": null,
            "_model_module": "@jupyter-widgets/controls",
            "layout": "IPY_MODEL_157227dc27944cb99bed79ba9976e570"
          }
        },
        "250543b48d5c4cf18b1ea41d0fb0e1bd": {
          "model_module": "@jupyter-widgets/controls",
          "model_name": "HTMLModel",
          "model_module_version": "1.5.0",
          "state": {
            "_view_name": "HTMLView",
            "style": "IPY_MODEL_08eb147684e1421db3eb094d0940e6b4",
            "_dom_classes": [],
            "description": "",
            "_model_name": "HTMLModel",
            "placeholder": "​",
            "_view_module": "@jupyter-widgets/controls",
            "_model_module_version": "1.5.0",
            "value": " 83.3M/83.3M [00:01&lt;00:00, 95.3MB/s]",
            "_view_count": null,
            "_view_module_version": "1.5.0",
            "description_tooltip": null,
            "_model_module": "@jupyter-widgets/controls",
            "layout": "IPY_MODEL_2bd193e695d94c51b90299037ff710f9"
          }
        },
        "db57692c8120454d9293cfe3ad3afeab": {
          "model_module": "@jupyter-widgets/controls",
          "model_name": "DescriptionStyleModel",
          "model_module_version": "1.5.0",
          "state": {
            "_view_name": "StyleView",
            "_model_name": "DescriptionStyleModel",
            "description_width": "",
            "_view_module": "@jupyter-widgets/base",
            "_model_module_version": "1.5.0",
            "_view_count": null,
            "_view_module_version": "1.2.0",
            "_model_module": "@jupyter-widgets/controls"
          }
        },
        "e844f1bfe7a34894857728b685154dfd": {
          "model_module": "@jupyter-widgets/base",
          "model_name": "LayoutModel",
          "model_module_version": "1.2.0",
          "state": {
            "_view_name": "LayoutView",
            "grid_template_rows": null,
            "right": null,
            "justify_content": null,
            "_view_module": "@jupyter-widgets/base",
            "overflow": null,
            "_model_module_version": "1.2.0",
            "_view_count": null,
            "flex_flow": null,
            "width": null,
            "min_width": null,
            "border": null,
            "align_items": null,
            "bottom": null,
            "_model_module": "@jupyter-widgets/base",
            "top": null,
            "grid_column": null,
            "overflow_y": null,
            "overflow_x": null,
            "grid_auto_flow": null,
            "grid_area": null,
            "grid_template_columns": null,
            "flex": null,
            "_model_name": "LayoutModel",
            "justify_items": null,
            "grid_row": null,
            "max_height": null,
            "align_content": null,
            "visibility": null,
            "align_self": null,
            "height": null,
            "min_height": null,
            "padding": null,
            "grid_auto_rows": null,
            "grid_gap": null,
            "max_width": null,
            "order": null,
            "_view_module_version": "1.2.0",
            "grid_template_areas": null,
            "object_position": null,
            "object_fit": null,
            "grid_auto_columns": null,
            "margin": null,
            "display": null,
            "left": null
          }
        },
        "f5840781a807452a83ea120332249dcd": {
          "model_module": "@jupyter-widgets/controls",
          "model_name": "ProgressStyleModel",
          "model_module_version": "1.5.0",
          "state": {
            "_view_name": "StyleView",
            "_model_name": "ProgressStyleModel",
            "description_width": "",
            "_view_module": "@jupyter-widgets/base",
            "_model_module_version": "1.5.0",
            "_view_count": null,
            "_view_module_version": "1.2.0",
            "bar_color": null,
            "_model_module": "@jupyter-widgets/controls"
          }
        },
        "157227dc27944cb99bed79ba9976e570": {
          "model_module": "@jupyter-widgets/base",
          "model_name": "LayoutModel",
          "model_module_version": "1.2.0",
          "state": {
            "_view_name": "LayoutView",
            "grid_template_rows": null,
            "right": null,
            "justify_content": null,
            "_view_module": "@jupyter-widgets/base",
            "overflow": null,
            "_model_module_version": "1.2.0",
            "_view_count": null,
            "flex_flow": null,
            "width": null,
            "min_width": null,
            "border": null,
            "align_items": null,
            "bottom": null,
            "_model_module": "@jupyter-widgets/base",
            "top": null,
            "grid_column": null,
            "overflow_y": null,
            "overflow_x": null,
            "grid_auto_flow": null,
            "grid_area": null,
            "grid_template_columns": null,
            "flex": null,
            "_model_name": "LayoutModel",
            "justify_items": null,
            "grid_row": null,
            "max_height": null,
            "align_content": null,
            "visibility": null,
            "align_self": null,
            "height": null,
            "min_height": null,
            "padding": null,
            "grid_auto_rows": null,
            "grid_gap": null,
            "max_width": null,
            "order": null,
            "_view_module_version": "1.2.0",
            "grid_template_areas": null,
            "object_position": null,
            "object_fit": null,
            "grid_auto_columns": null,
            "margin": null,
            "display": null,
            "left": null
          }
        },
        "08eb147684e1421db3eb094d0940e6b4": {
          "model_module": "@jupyter-widgets/controls",
          "model_name": "DescriptionStyleModel",
          "model_module_version": "1.5.0",
          "state": {
            "_view_name": "StyleView",
            "_model_name": "DescriptionStyleModel",
            "description_width": "",
            "_view_module": "@jupyter-widgets/base",
            "_model_module_version": "1.5.0",
            "_view_count": null,
            "_view_module_version": "1.2.0",
            "_model_module": "@jupyter-widgets/controls"
          }
        },
        "2bd193e695d94c51b90299037ff710f9": {
          "model_module": "@jupyter-widgets/base",
          "model_name": "LayoutModel",
          "model_module_version": "1.2.0",
          "state": {
            "_view_name": "LayoutView",
            "grid_template_rows": null,
            "right": null,
            "justify_content": null,
            "_view_module": "@jupyter-widgets/base",
            "overflow": null,
            "_model_module_version": "1.2.0",
            "_view_count": null,
            "flex_flow": null,
            "width": null,
            "min_width": null,
            "border": null,
            "align_items": null,
            "bottom": null,
            "_model_module": "@jupyter-widgets/base",
            "top": null,
            "grid_column": null,
            "overflow_y": null,
            "overflow_x": null,
            "grid_auto_flow": null,
            "grid_area": null,
            "grid_template_columns": null,
            "flex": null,
            "_model_name": "LayoutModel",
            "justify_items": null,
            "grid_row": null,
            "max_height": null,
            "align_content": null,
            "visibility": null,
            "align_self": null,
            "height": null,
            "min_height": null,
            "padding": null,
            "grid_auto_rows": null,
            "grid_gap": null,
            "max_width": null,
            "order": null,
            "_view_module_version": "1.2.0",
            "grid_template_areas": null,
            "object_position": null,
            "object_fit": null,
            "grid_auto_columns": null,
            "margin": null,
            "display": null,
            "left": null
          }
        }
      }
    }
  },
  "cells": [
    {
      "cell_type": "markdown",
      "metadata": {
        "id": "view-in-github",
        "colab_type": "text"
      },
      "source": [
        "<a href=\"https://colab.research.google.com/github/skduswn/captcha_deepLearning/blob/main/captcha_fin.ipynb\" target=\"_parent\"><img src=\"https://colab.research.google.com/assets/colab-badge.svg\" alt=\"Open In Colab\"/></a>"
      ]
    },
    {
      "cell_type": "code",
      "source": [
        "from google.colab import drive\n",
        "drive.mount('/content/gdrive/')"
      ],
      "metadata": {
        "colab": {
          "base_uri": "https://localhost:8080/"
        },
        "id": "EqUpoBUoMDZq",
        "outputId": "209a1b74-6153-4136-ef57-d2b694074ad6"
      },
      "execution_count": null,
      "outputs": [
        {
          "output_type": "stream",
          "name": "stdout",
          "text": [
            "Mounted at /content/gdrive/\n"
          ]
        }
      ]
    },
    {
      "cell_type": "code",
      "source": [
        "import os\n",
        "os.chdir('/content/gdrive/MyDrive/')\n",
        "!pwd"
      ],
      "metadata": {
        "colab": {
          "base_uri": "https://localhost:8080/"
        },
        "id": "OYXwrXqhMEY4",
        "outputId": "d70fa3f9-4b81-4d99-8001-2e4acf5a221a"
      },
      "execution_count": null,
      "outputs": [
        {
          "output_type": "stream",
          "name": "stdout",
          "text": [
            "/content/gdrive/MyDrive\n"
          ]
        }
      ]
    },
    {
      "cell_type": "code",
      "source": [
        "import torch\n",
        "import numpy as np\n",
        "from torch.utils.data import Dataset, random_split, DataLoader\n",
        "import torchvision.models as models\n",
        "from torchvision import transforms\n",
        "import torch.nn.functional as F\n",
        "import torch.nn as nn\n",
        "from torchvision.datasets import ImageFolder\n",
        "import random\n",
        "import matplotlib.pyplot as plt\n",
        "from torch.optim import lr_scheduler\n",
        "from torch import optim\n",
        "from torchvision import datasets\n",
        "from torchvision import utils\n",
        "import torchvision\n",
        "import zipfile\n",
        "import cv2"
      ],
      "metadata": {
        "id": "fCzlhdH4MEWl"
      },
      "execution_count": null,
      "outputs": []
    },
    {
      "cell_type": "code",
      "source": [
        "cd /content/gdrive/MyDrive/Dataset"
      ],
      "metadata": {
        "colab": {
          "base_uri": "https://localhost:8080/"
        },
        "id": "Br0JpqWjMEVP",
        "outputId": "ad00f345-f22b-494b-d103-862d317664e7"
      },
      "execution_count": null,
      "outputs": [
        {
          "output_type": "stream",
          "name": "stdout",
          "text": [
            "/content/gdrive/MyDrive/Dataset\n"
          ]
        }
      ]
    },
    {
      "cell_type": "code",
      "source": [
        "ls"
      ],
      "metadata": {
        "colab": {
          "base_uri": "https://localhost:8080/"
        },
        "id": "aSiD1d83METp",
        "outputId": "764e15f1-d0ad-47aa-ef17-e83538d191b3"
      },
      "execution_count": null,
      "outputs": [
        {
          "output_type": "stream",
          "name": "stdout",
          "text": [
            "dataset_bold_split.zip\n"
          ]
        }
      ]
    },
    {
      "cell_type": "code",
      "source": [
        " fname = 'dataset_bold_split.zip'\n",
        " data_zip = zipfile.ZipFile(fname)\n",
        " data_zip.extractall()\n",
        " \n",
        " data_zip.close()"
      ],
      "metadata": {
        "id": "Nu_DPmt1MESq"
      },
      "execution_count": null,
      "outputs": []
    },
    {
      "cell_type": "code",
      "source": [
        "imagenet_stats = ([0.485, 0.456, 0.406], [0.229, 0.224, 0.225])\n",
        "\n",
        "train_transforms = transforms.Compose([\n",
        "    transforms.RandomCrop(128, padding=8, padding_mode='reflect'),\n",
        "    transforms.Resize((128, 128)),\n",
        "    transforms.RandomHorizontalFlip(), \n",
        "    transforms.RandomRotation(10),\n",
        "    transforms.ToTensor(), \n",
        "    transforms.Normalize(*imagenet_stats,inplace=True)\n",
        "])\n",
        "\n",
        "valid_transforms = transforms.Compose([\n",
        "    transforms.Resize((128, 128)), \n",
        "    transforms.ToTensor(), \n",
        "    transforms.Normalize(*imagenet_stats)\n",
        "])\n",
        "test_transforms = transforms.Compose([\n",
        "    transforms.Resize((128, 128)), \n",
        "    transforms.ToTensor(), \n",
        "    transforms.Normalize(*imagenet_stats)\n",
        "])"
      ],
      "metadata": {
        "id": "A5PdW4YKMEQS"
      },
      "execution_count": null,
      "outputs": []
    },
    {
      "cell_type": "code",
      "source": [
        "dataset = ImageFolder(root='/content/gdrive/MyDrive/Dataset/data')\n",
        "\n",
        "dataset_size = len(dataset)\n",
        "dataset_size"
      ],
      "metadata": {
        "colab": {
          "base_uri": "https://localhost:8080/"
        },
        "id": "jk0CDUFiMEGL",
        "outputId": "9c6284aa-ffd1-4bde-f431-cb1600ab950f"
      },
      "execution_count": null,
      "outputs": [
        {
          "output_type": "execute_result",
          "data": {
            "text/plain": [
              "5854"
            ]
          },
          "metadata": {},
          "execution_count": 8
        }
      ]
    },
    {
      "cell_type": "code",
      "source": [
        "print(dataset.classes) "
      ],
      "metadata": {
        "colab": {
          "base_uri": "https://localhost:8080/"
        },
        "id": "MJrKfIEUPfIl",
        "outputId": "acb8a7ac-95ae-4896-f9df-556c0ce6a5d1"
      },
      "execution_count": null,
      "outputs": [
        {
          "output_type": "stream",
          "name": "stdout",
          "text": [
            "['0lower', '1lower', '2lower', '3lower', '4lower', '5lower', '6lower', '7lower', '8lower', '9lower', 'Aupper', 'Bupper', 'Cupper', 'Dupper', 'Eupper', 'Fupper', 'Gupper', 'Hupper', 'Iupper', 'Jupper', 'Kupper', 'Lupper', 'Mupper', 'Nupper', 'Oupper', 'Pupper', 'Qupper', 'Rupper', 'Supper', 'Tupper', 'Uupper', 'Vupper', 'Wupper', 'Xupper', 'Yupper', 'Zupper', 'alower', 'blower', 'clower', 'dlower', 'elower', 'flower', 'glower', 'hlower', 'ilower', 'jlower', 'klower', 'llower', 'mlower', 'nlower', 'olower', 'plower', 'qlower', 'rlower', 'slower', 'tlower', 'ulower', 'vlower', 'wlower', 'xlower', 'ylower', 'zlower']\n"
          ]
        }
      ]
    },
    {
      "cell_type": "code",
      "source": [
        "dict = {0:'0', 1:'1', 2:'2', 3:'3',4 :'4', 5:'5', 6:'6', 7:'7', 8:'8',9:'9', \n",
        "            10:'A', 11:'B', 12:'C', 13:'D', 14:'E', 15:'F', 16:'G', 17:'H', \n",
        "            18:'I', 19:'J', 20:'K', 21:'L', 22:'M', 23:'N', 24:'O', 25:'P', 26:'Q',\n",
        "            27:'R', 28:'S', 29:'T', 30:'U', 31:'V', 32:'W', 33:'X', 34:'Y', 35:'Z', \n",
        "            36:'a', 37:'b', 38:'c', 39:'d', 40:'e', 41:'f', 42:'g', 43:'h', \n",
        "            44:'i', 45:'j', 46:'k', 47:'l', 48:'m', 49:'n', 50:'o', 51:'p', 52:'q',\n",
        "            53:'r', 54:'s', 55:'t', 56:'u', 57:'v', 58:'w', 59:'x', 60:'y', 61:'z'}"
      ],
      "metadata": {
        "id": "YjDw0ERqMEER"
      },
      "execution_count": null,
      "outputs": []
    },
    {
      "cell_type": "code",
      "source": [
        "pltsize = 2\n",
        "plt.figure(figsize = (10*pltsize, pltsize))\n",
        "for i in range(5):\n",
        "  random_image = np.random.randint(0, dataset_size)\n",
        "  plt.subplot(1, 10, i+1)\n",
        "  plt.axis('off')\n",
        "  plt.imshow(dataset[random_image][0], cmap='gray')\n",
        "  plt.title(dict[dataset[random_image][1]])"
      ],
      "metadata": {
        "colab": {
          "base_uri": "https://localhost:8080/",
          "height": 156
        },
        "id": "jZh_sMLoCDYp",
        "outputId": "fcbe6277-2365-45cf-92fa-482e69c62992"
      },
      "execution_count": null,
      "outputs": [
        {
          "output_type": "display_data",
          "data": {
            "image/png": "[encoded data removed]",
            "text/plain": [
              "<Figure size 1440x144 with 5 Axes>"
            ]
          },
          "metadata": {
            "needs_background": "light"
          }
        }
      ]
    },
    {
      "cell_type": "code",
      "source": [
        "classes = dataset.classes\n",
        "classes"
      ],
      "metadata": {
        "id": "nSOOh53wMEBX"
      },
      "execution_count": null,
      "outputs": []
    },
    {
      "cell_type": "code",
      "source": [
        "num_classes = len(dataset.classes)\n",
        "num_classes"
      ],
      "metadata": {
        "colab": {
          "base_uri": "https://localhost:8080/"
        },
        "id": "c30fNdmRMD-E",
        "outputId": "f7a9fe73-4e70-4d12-e85d-07b1144b21d8"
      },
      "execution_count": null,
      "outputs": [
        {
          "output_type": "execute_result",
          "data": {
            "text/plain": [
              "62"
            ]
          },
          "metadata": {},
          "execution_count": 23
        }
      ]
    },
    {
      "cell_type": "markdown",
      "source": [
        "# Data Split"
      ],
      "metadata": {
        "id": "lKoS4cdrQ407"
      }
    },
    {
      "cell_type": "code",
      "source": [
        "test_size = 200\n",
        "nontest_size = len(dataset) - test_size\n",
        "\n",
        "nontest_df, test_df = random_split(dataset, [nontest_size, test_size])\n",
        "len(nontest_df), len(test_df)"
      ],
      "metadata": {
        "colab": {
          "base_uri": "https://localhost:8080/"
        },
        "id": "8SFVaiMCMD8h",
        "outputId": "de97db29-7849-4953-8099-40b22524c891"
      },
      "execution_count": null,
      "outputs": [
        {
          "output_type": "execute_result",
          "data": {
            "text/plain": [
              "(5654, 200)"
            ]
          },
          "metadata": {},
          "execution_count": 24
        }
      ]
    },
    {
      "cell_type": "code",
      "source": [
        "val_size = 500\n",
        "train_size = len(nontest_df) - val_size\n",
        "\n",
        "train_df, val_df = random_split(nontest_df, [train_size, val_size])\n",
        "len(train_df), len(val_df)"
      ],
      "metadata": {
        "colab": {
          "base_uri": "https://localhost:8080/"
        },
        "id": "4D2rLKGNMD7A",
        "outputId": "61c78091-6289-48fa-da5f-8a94fe26dea6"
      },
      "execution_count": null,
      "outputs": [
        {
          "output_type": "execute_result",
          "data": {
            "text/plain": [
              "(5154, 500)"
            ]
          },
          "metadata": {},
          "execution_count": 25
        }
      ]
    },
    {
      "cell_type": "code",
      "source": [
        "test_df.dataset.transform = test_transforms\n",
        "val_df.dataset.transform = valid_transforms\n",
        "train_df.dataset.transform = train_transforms"
      ],
      "metadata": {
        "id": "EjMpKIKGMD5i"
      },
      "execution_count": null,
      "outputs": []
    },
    {
      "cell_type": "code",
      "source": [
        "batch_size = 64\n",
        "\n",
        "train_loader = DataLoader(train_df, batch_size, shuffle=True, num_workers=3)\n",
        "val_loader = DataLoader(val_df, batch_size, shuffle=False,num_workers=2)\n",
        "test_loader = DataLoader(test_df, batch_size, shuffle=False, num_workers=2)"
      ],
      "metadata": {
        "colab": {
          "base_uri": "https://localhost:8080/"
        },
        "id": "Bund4YNEMD4E",
        "outputId": "ec6dd8d7-be8d-4b9c-8c6b-0346847d183d"
      },
      "execution_count": null,
      "outputs": [
        {
          "output_type": "stream",
          "name": "stderr",
          "text": [
            "/usr/local/lib/python3.7/dist-packages/torch/utils/data/dataloader.py:481: UserWarning: This DataLoader will create 3 worker processes in total. Our suggested max number of worker in current system is 2, which is smaller than what this DataLoader is going to create. Please be aware that excessive worker creation might get DataLoader running slow or even freeze, lower the worker number to avoid potential slowness/freeze if necessary.\n",
            "  cpuset_checked))\n"
          ]
        }
      ]
    },
    {
      "cell_type": "code",
      "source": [
        "def accuracy(outputs, labels):\n",
        "    _, preds = torch.max(outputs, 1)\n",
        "    return torch.tensor(torch.sum(preds == labels).item() / len(preds))"
      ],
      "metadata": {
        "id": "ML0dG_qPMD0u"
      },
      "execution_count": null,
      "outputs": []
    },
    {
      "cell_type": "code",
      "source": [
        "class ImageClassificationBase(nn.Module):\n",
        "    def training_step(self, batch):\n",
        "        images, labels = batch              # 1batch\n",
        "        out = self(images)\n",
        "        loss = F.cross_entropy(out, labels) # loss값 계산\n",
        "        return loss\n",
        "    \n",
        "    def validation_step(self, batch):\n",
        "        images, labels = batch \n",
        "        out = self(images)\n",
        "        loss = F.cross_entropy(out, labels)\n",
        "        acc = accuracy(out, labels)\n",
        "        return {'val_loss': loss.detach(), 'val_acc': acc}\n",
        "        \n",
        "    def validation_epoch_end(self, outputs):\n",
        "        batch_losses = [x['val_loss'] for x in outputs]\n",
        "        epoch_loss = torch.stack(batch_losses).mean()\n",
        "        batch_accs = [x['val_acc'] for x in outputs]\n",
        "        epoch_acc = torch.stack(batch_accs).mean()\n",
        "        return {'val_loss': epoch_loss.item(), 'val_acc': epoch_acc.item()}\n",
        "    \n",
        "    def epoch_end(self, epoch, result):\n",
        "        print(\"Epoch [{}], last_lr: {:.5f}, train_loss: {:.4f}, val_loss: {:.4f}, val_acc: {:.4f}\"\n",
        "        .format(epoch, result['lrs'][-1], result['train_loss'], result['val_loss'], result['val_acc']))"
      ],
      "metadata": {
        "id": "gAJz39r3MDul"
      },
      "execution_count": null,
      "outputs": []
    },
    {
      "cell_type": "code",
      "source": [
        "class ResNet(ImageClassificationBase):\n",
        "    def __init__(self):\n",
        "        super().__init__()\n",
        "        self.network = models.resnet34(pretrained=True)\n",
        "        num_ftrs = self.network.fc.in_features\n",
        "        # 62개의 클래스이기 때문에 구조 변경\n",
        "        self.network.fc = nn.Linear(num_ftrs,num_classes)\n",
        "    def forward(self, x):\n",
        "        return torch.sigmoid(self.network(x))"
      ],
      "metadata": {
        "id": "pwVDaOg8UDoG"
      },
      "execution_count": null,
      "outputs": []
    },
    {
      "cell_type": "markdown",
      "source": [
        "# 정의한 모델 cuda device에 할당"
      ],
      "metadata": {
        "id": "CXGkufu6Vvgm"
      }
    },
    {
      "cell_type": "code",
      "source": [
        "if torch.cuda.is_available():\n",
        "  device = torch.device('cuda')\n",
        "else:\n",
        "  device = torch.device('cpu')\n",
        "print(device)"
      ],
      "metadata": {
        "colab": {
          "base_uri": "https://localhost:8080/"
        },
        "id": "q6S1q1ghU06j",
        "outputId": "6a766c2d-3277-436e-8d1d-d6fbad42ac97"
      },
      "execution_count": null,
      "outputs": [
        {
          "output_type": "stream",
          "name": "stdout",
          "text": [
            "cuda\n"
          ]
        }
      ]
    },
    {
      "cell_type": "code",
      "source": [
        "def to_device(data, device):\n",
        "    if isinstance(data, (list,tuple)):\n",
        "        return [to_device(x, device) for x in data]\n",
        "    return data.to(device, non_blocking=True)"
      ],
      "metadata": {
        "id": "hdYS1gjXVD1A"
      },
      "execution_count": null,
      "outputs": []
    },
    {
      "cell_type": "code",
      "source": [
        "model = to_device(ResNet(), device)"
      ],
      "metadata": {
        "id": "51EnxA4NVi5Y",
        "colab": {
          "base_uri": "https://localhost:8080/",
          "height": 66,
          "referenced_widgets": [
            "1d12565b2dc0413f9806cab98ce13090",
            "72b631aa587f4d26b8d273e2b79d9e1a",
            "294c5f67d2bf4825896469f3e6e8eb22",
            "8539ece443c3416ea01b654641889575",
            "250543b48d5c4cf18b1ea41d0fb0e1bd",
            "db57692c8120454d9293cfe3ad3afeab",
            "e844f1bfe7a34894857728b685154dfd",
            "f5840781a807452a83ea120332249dcd",
            "157227dc27944cb99bed79ba9976e570",
            "08eb147684e1421db3eb094d0940e6b4",
            "2bd193e695d94c51b90299037ff710f9"
          ]
        },
        "outputId": "0d0a4c15-0e81-4c0b-8479-8a07fba48835"
      },
      "execution_count": null,
      "outputs": [
        {
          "output_type": "stream",
          "name": "stderr",
          "text": [
            "Downloading: \"https://download.pytorch.org/models/resnet34-b627a593.pth\" to /root/.cache/torch/hub/checkpoints/resnet34-b627a593.pth\n"
          ]
        },
        {
          "output_type": "display_data",
          "data": {
            "application/vnd.jupyter.widget-view+json": {
              "model_id": "1d12565b2dc0413f9806cab98ce13090",
              "version_minor": 0,
              "version_major": 2
            },
            "text/plain": [
              "  0%|          | 0.00/83.3M [00:00<?, ?B/s]"
            ]
          },
          "metadata": {}
        }
      ]
    },
    {
      "cell_type": "markdown",
      "source": [
        "# 학습을 위해 Data Device에 할당"
      ],
      "metadata": {
        "id": "Ftaum9nse2BL"
      }
    },
    {
      "cell_type": "code",
      "source": [
        "class DeviceDataLoader():\n",
        "    def __init__(self, data_loader, device):\n",
        "        self.data_loader = data_loader\n",
        "        self.device = device\n",
        "        \n",
        "    def __iter__(self):\n",
        "        for b in self.data_loader: \n",
        "            yield to_device(b, self.device)\n",
        "\n",
        "    def __len__(self):\n",
        "        return len(self.data_loader)"
      ],
      "metadata": {
        "id": "NrhBu-DoWSw0"
      },
      "execution_count": null,
      "outputs": []
    },
    {
      "cell_type": "code",
      "source": [
        "train_loader = DeviceDataLoader(train_loader, device)\n",
        "val_loader = DeviceDataLoader(val_loader, device)\n",
        "test_loader = DeviceDataLoader(test_loader, device)"
      ],
      "metadata": {
        "id": "-F3xtuEqWuk4"
      },
      "execution_count": null,
      "outputs": []
    },
    {
      "cell_type": "markdown",
      "source": [
        "# 학습"
      ],
      "metadata": {
        "id": "s8-si7uwe84m"
      }
    },
    {
      "cell_type": "code",
      "source": [
        "def evaluate(model, val_loader):\n",
        "    model.eval()\n",
        "    outputs = [model.validation_step(batch) for batch in val_loader]\n",
        "    return model.validation_epoch_end(outputs)\n",
        "\n",
        "def get_lr(optimizer):\n",
        "    for param_group in optimizer.param_groups:\n",
        "        return param_group['lr']\n",
        "\n",
        "def fit_one_cycle(epochs, max_lr, model, train_loader, val_loader, opt_func=torch.optim.Adam):\n",
        "    torch.cuda.empty_cache()\n",
        "    history = []\n",
        "    \n",
        "    optimizer = opt_func(model.parameters(), max_lr)\n",
        "    sched = torch.optim.lr_scheduler.OneCycleLR(optimizer, max_lr, epochs=epochs, steps_per_epoch=len(train_loader))\n",
        "    for epoch in range(epochs):\n",
        "        model.train()\n",
        "        train_losses = []\n",
        "        lrs = []\n",
        "        for batch in train_loader:\n",
        "            loss = model.training_step(batch)\n",
        "            train_losses.append(loss)\n",
        "            loss.backward()\n",
        "            \n",
        "            optimizer.step()\n",
        "            optimizer.zero_grad()\n",
        "            \n",
        "            # learning rate 저장, 업데이트\n",
        "            lrs.append(get_lr(optimizer))\n",
        "            sched.step()\n",
        "        # model.eval()\n",
        "        result = evaluate(model, val_loader)\n",
        "        result['train_loss'] = torch.stack(train_losses).mean().item() #loss 평균\n",
        "        result['lrs'] = lrs\n",
        "        model.epoch_end(epoch, result)\n",
        "        history.append(result)\n",
        "    return history"
      ],
      "metadata": {
        "id": "2fISKo4UXtNG"
      },
      "execution_count": null,
      "outputs": []
    },
    {
      "cell_type": "code",
      "source": [
        "history = [evaluate(model, val_loader)]\n",
        "history\n",
        "epochs = 5\n",
        "max_lr = 0.00005 \n",
        "opt_func = torch.optim.Adam\n",
        "print('epoch = ', epochs, 'max_lr = ', max_lr)\n",
        "#print('epoch = ', epochs)\n",
        "torch.cuda.empty_cache()\n",
        "\n",
        "history += fit_one_cycle(epochs, max_lr, model, train_loader, val_loader, opt_func=opt_func)\n"
      ],
      "metadata": {
        "colab": {
          "base_uri": "https://localhost:8080/"
        },
        "id": "z2QzADCUbjQR",
        "outputId": "71830cea-f3d5-40bc-c30f-22401a0a35e0"
      },
      "execution_count": null,
      "outputs": [
        {
          "output_type": "stream",
          "name": "stdout",
          "text": [
            "epoch =  5 max_lr =  5e-05\n"
          ]
        },
        {
          "output_type": "stream",
          "name": "stderr",
          "text": [
            "/usr/local/lib/python3.7/dist-packages/torch/utils/data/dataloader.py:481: UserWarning: This DataLoader will create 3 worker processes in total. Our suggested max number of worker in current system is 2, which is smaller than what this DataLoader is going to create. Please be aware that excessive worker creation might get DataLoader running slow or even freeze, lower the worker number to avoid potential slowness/freeze if necessary.\n",
            "  cpuset_checked))\n"
          ]
        },
        {
          "output_type": "stream",
          "name": "stdout",
          "text": [
            "Epoch [0], last_lr: 0.00004, train_loss: 3.9462, val_loss: 3.6896, val_acc: 0.7281\n",
            "Epoch [1], last_lr: 0.00005, train_loss: 3.5261, val_loss: 3.3907, val_acc: 0.8962\n",
            "Epoch [2], last_lr: 0.00003, train_loss: 3.3246, val_loss: 3.2886, val_acc: 0.9440\n",
            "Epoch [3], last_lr: 0.00001, train_loss: 3.2634, val_loss: 3.2627, val_acc: 0.9459\n",
            "Epoch [4], last_lr: 0.00000, train_loss: 3.2488, val_loss: 3.2590, val_acc: 0.9498\n"
          ]
        }
      ]
    },
    {
      "cell_type": "code",
      "source": [
        "torch.save(model.state_dict(), 'captcha.pth')"
      ],
      "metadata": {
        "id": "P3nibxmqj_HX"
      },
      "execution_count": null,
      "outputs": []
    },
    {
      "cell_type": "code",
      "source": [
        "def plot_losses(history):\n",
        "    train_losses = [x.get('train_loss') for x in history]\n",
        "    val_losses = [x['val_loss'] for x in history]\n",
        "    plt.plot(train_losses, '-bx')\n",
        "    plt.plot(val_losses, '-rx')\n",
        "    plt.xlabel('epoch')\n",
        "    plt.ylabel('loss')\n",
        "    plt.legend(['Training', 'Validation'])\n",
        "    plt.title('Loss vs. No. of epochs');\n",
        "\n",
        "plot_losses(history)"
      ],
      "metadata": {
        "colab": {
          "base_uri": "https://localhost:8080/",
          "height": 295
        },
        "id": "qFBEIlWykFDM",
        "outputId": "e6a4c140-4a76-489f-e577-e9debaf3cfbd"
      },
      "execution_count": null,
      "outputs": [
        {
          "output_type": "display_data",
          "data": {
            "image/png": "[encoded data removed]",
            "text/plain": [
              "<Figure size 432x288 with 1 Axes>"
            ]
          },
          "metadata": {
            "needs_background": "light"
          }
        }
      ]
    },
    {
      "cell_type": "code",
      "source": [
        "def plot_accuracies(history):\n",
        "    accuracies = [x['val_acc'] for x in history]\n",
        "    plt.plot(accuracies, '-x')\n",
        "    plt.xlabel('epoch')\n",
        "    plt.ylabel('accuracy')\n",
        "    plt.title('Accuracy vs. No. of epochs');\n",
        "\n",
        "plot_accuracies(history)"
      ],
      "metadata": {
        "colab": {
          "base_uri": "https://localhost:8080/",
          "height": 295
        },
        "id": "pwqAML9HkH4x",
        "outputId": "46016b23-e9da-49a4-c998-19da675d1e40"
      },
      "execution_count": null,
      "outputs": [
        {
          "output_type": "display_data",
          "data": {
            "image/png": "[encoded data removed]",
            "text/plain": [
              "<Figure size 432x288 with 1 Axes>"
            ]
          },
          "metadata": {
            "needs_background": "light"
          }
        }
      ]
    },
    {
      "cell_type": "code",
      "source": [
        "model = to_device(ResNet(), device)\n",
        "model.load_state_dict(torch.load('/content/gdrive/MyDrive/Dataset/captcha.pth'))"
      ],
      "metadata": {
        "colab": {
          "base_uri": "https://localhost:8080/"
        },
        "id": "gxkt9_RokXYQ",
        "outputId": "6b217def-6143-4756-986e-5ba30109203f"
      },
      "execution_count": null,
      "outputs": [
        {
          "output_type": "execute_result",
          "data": {
            "text/plain": [
              "<All keys matched successfully>"
            ]
          },
          "metadata": {},
          "execution_count": 42
        }
      ]
    },
    {
      "cell_type": "code",
      "source": [
        "def predict_image(img, model):\n",
        "    xb = to_device(img.unsqueeze(0), device)\n",
        "    yb = model(xb)\n",
        "    _, preds  = torch.max(yb, 1)\n",
        "    return preds[0].item()"
      ],
      "metadata": {
        "id": "FUGjmutCkcAa"
      },
      "execution_count": null,
      "outputs": []
    },
    {
      "cell_type": "code",
      "source": [
        "evaluate(model, val_loader)['val_acc']"
      ],
      "metadata": {
        "colab": {
          "base_uri": "https://localhost:8080/"
        },
        "id": "jcwKy6UJked6",
        "outputId": "00364e05-083e-43cf-8106-765cf96e8d9a"
      },
      "execution_count": null,
      "outputs": [
        {
          "output_type": "execute_result",
          "data": {
            "text/plain": [
              "0.9448617696762085"
            ]
          },
          "metadata": {},
          "execution_count": 49
        }
      ]
    },
    {
      "cell_type": "code",
      "source": [
        "img, label = val_df[0]\n",
        "plt.imshow(img[0], cmap='gray')\n",
        "label = dataset.classes[label]\n",
        "predict = dataset.classes[predict_image(img, model)]\n",
        "print('Label:', label[0:1], ', Predicted:', predict[0:1])"
      ],
      "metadata": {
        "colab": {
          "base_uri": "https://localhost:8080/",
          "height": 285
        },
        "id": "brnf8am8kmCK",
        "outputId": "8cad3cff-2500-4574-8f1c-d893d6f36d6c"
      },
      "execution_count": null,
      "outputs": [
        {
          "output_type": "stream",
          "name": "stdout",
          "text": [
            "Label: 1 , Predicted: 1\n"
          ]
        },
        {
          "output_type": "display_data",
          "data": {
            "image/png": "[encoded data removed]",
            "text/plain": [
              "<Figure size 432x288 with 1 Axes>"
            ]
          },
          "metadata": {
            "needs_background": "light"
          }
        }
      ]
    },
    {
      "cell_type": "code",
      "source": [
        "pltsize = 1\n",
        "plt.figure(figsize = (10*pltsize, pltsize))\n",
        "result = []\n",
        "for i in range(4):\n",
        "  random_image = np.random.randint(0, len(test_df))\n",
        "  img, label = test_df[random_image]\n",
        "  plt.subplot(1, 10, i+1)\n",
        "  plt.axis('off')\n",
        "  plt.imshow(img[0], cmap='gray')\n",
        "  label = dataset.classes[label]\n",
        "  predict = dataset.classes[predict_image(img, model)]\n",
        "  plt.title(predict[0:1])\n",
        "  result.append(predict[0:1])\n",
        "  print('Label:', label[0:1], ', Predicted:', predict[0:1])"
      ],
      "metadata": {
        "colab": {
          "base_uri": "https://localhost:8080/",
          "height": 163
        },
        "id": "HY_auL3yknrr",
        "outputId": "ad34a7e4-7c62-44e9-9a47-c0f80e46ae0c"
      },
      "execution_count": null,
      "outputs": [
        {
          "output_type": "stream",
          "name": "stdout",
          "text": [
            "Label: Y , Predicted: Y\n",
            "Label: T , Predicted: T\n",
            "Label: g , Predicted: g\n",
            "Label: c , Predicted: 0\n"
          ]
        },
        {
          "output_type": "display_data",
          "data": {
            "image/png": "[encoded data removed]",
            "text/plain": [
              "<Figure size 720x72 with 4 Axes>"
            ]
          },
          "metadata": {
            "needs_background": "light"
          }
        }
      ]
    },
    {
      "cell_type": "markdown",
      "source": [
        "# Captcha test data"
      ],
      "metadata": {
        "id": "l0slq8kineJ6"
      }
    },
    {
      "cell_type": "code",
      "source": [
        "img = cv2.imread('/content/gdrive/MyDrive/dataset3/00001.jpg', 0) \n",
        "plt.imshow(img, cmap='gray')"
      ],
      "metadata": {
        "colab": {
          "base_uri": "https://localhost:8080/",
          "height": 148
        },
        "id": "A9156p6nzN6d",
        "outputId": "208462e4-bd50-4b73-8d7b-324d7d9620e7"
      },
      "execution_count": null,
      "outputs": [
        {
          "output_type": "execute_result",
          "data": {
            "text/plain": [
              "<matplotlib.image.AxesImage at 0x7fa57a12b910>"
            ]
          },
          "metadata": {},
          "execution_count": 66
        },
        {
          "output_type": "display_data",
          "data": {
            "image/png": "[encoded data removed]",
            "text/plain": [
              "<Figure size 432x288 with 1 Axes>"
            ]
          },
          "metadata": {
            "needs_background": "light"
          }
        }
      ]
    },
    {
      "cell_type": "code",
      "source": [
        "ret,thresh1 = cv2.threshold(img,127,255,cv2.THRESH_BINARY_INV)\n",
        "plt.imshow(thresh1, cmap='gray')"
      ],
      "metadata": {
        "colab": {
          "base_uri": "https://localhost:8080/",
          "height": 148
        },
        "id": "-sMwprKNzQTj",
        "outputId": "237f63f0-8e2c-4068-b74f-3a943dbe6a50"
      },
      "execution_count": null,
      "outputs": [
        {
          "output_type": "execute_result",
          "data": {
            "text/plain": [
              "<matplotlib.image.AxesImage at 0x7fa577194690>"
            ]
          },
          "metadata": {},
          "execution_count": 67
        },
        {
          "output_type": "display_data",
          "data": {
            "image/png": "[encoded data removed]",
            "text/plain": [
              "<Figure size 432x288 with 1 Axes>"
            ]
          },
          "metadata": {
            "needs_background": "light"
          }
        }
      ]
    },
    {
      "cell_type": "code",
      "source": [
        "contours, hier = cv2.findContours(thresh1, cv2.RETR_EXTERNAL,cv2.CHAIN_APPROX_NONE)\n",
        "rects = [cv2.boundingRect(each) for each in contours]\n",
        "rects = sorted(rects)\n",
        "print(rects)\n",
        "count=0\n",
        "for rect in rects:\n",
        "  padding=8\n",
        "  cv2.rectangle(thresh1, (rect[0]-padding, rect[1]-padding),((rect[0]+rect[2])+padding, (rect[1]+rect[3])+padding), 255, 1)\n",
        "  img_trim = img[rect[1]:rect[1]+rect[3], rect[0]:rect[0]+rect[2]]\n",
        "  cv2.imwrite(\"/content/gdrive/MyDrive/dataset4/data/letter\"+str(count)+\".png\", img_trim)\n",
        "  count = count + 1\n",
        "cv2.drawContours(thresh1, contours, -1, (255, 255, 0), 1)"
      ],
      "metadata": {
        "colab": {
          "base_uri": "https://localhost:8080/"
        },
        "id": "k5Wevv9jzT6B",
        "outputId": "5b5290f6-d742-4e21-da9e-f3a1bdf28341"
      },
      "execution_count": null,
      "outputs": [
        {
          "output_type": "stream",
          "name": "stdout",
          "text": [
            "[(14, 10, 11, 15), (48, 11, 12, 14), (81, 11, 10, 14), (114, 10, 12, 15)]\n"
          ]
        },
        {
          "output_type": "execute_result",
          "data": {
            "text/plain": [
              "array([[0, 0, 0, ..., 0, 0, 0],\n",
              "       [0, 0, 0, ..., 0, 0, 0],\n",
              "       [0, 0, 0, ..., 0, 0, 0],\n",
              "       ...,\n",
              "       [0, 0, 0, ..., 0, 0, 0],\n",
              "       [0, 0, 0, ..., 0, 0, 0],\n",
              "       [0, 0, 0, ..., 0, 0, 0]], dtype=uint8)"
            ]
          },
          "metadata": {},
          "execution_count": 68
        }
      ]
    },
    {
      "cell_type": "code",
      "source": [
        "plt.imshow(thresh1, cmap='gray')\n",
        "len(contours)"
      ],
      "metadata": {
        "colab": {
          "base_uri": "https://localhost:8080/",
          "height": 148
        },
        "id": "OZSgubnXzVlG",
        "outputId": "22a8cc19-d979-4f08-9ebf-f9ff866d9673"
      },
      "execution_count": null,
      "outputs": [
        {
          "output_type": "execute_result",
          "data": {
            "text/plain": [
              "4"
            ]
          },
          "metadata": {},
          "execution_count": 69
        },
        {
          "output_type": "display_data",
          "data": {
            "image/png": "[encoded data removed]",
            "text/plain": [
              "<Figure size 432x288 with 1 Axes>"
            ]
          },
          "metadata": {
            "needs_background": "light"
          }
        }
      ]
    },
    {
      "cell_type": "code",
      "source": [
        "cd /content/gdrive/MyDrive/dataset4"
      ],
      "metadata": {
        "colab": {
          "base_uri": "https://localhost:8080/"
        },
        "id": "7jpv3O3TzXGH",
        "outputId": "e237f94d-5b38-4cde-9a3c-7348137925e0"
      },
      "execution_count": null,
      "outputs": [
        {
          "output_type": "stream",
          "name": "stdout",
          "text": [
            "/content/gdrive/MyDrive/dataset4\n"
          ]
        }
      ]
    },
    {
      "cell_type": "code",
      "source": [
        "imagenet_stats = ([0.485, 0.456, 0.406], [0.229, 0.224, 0.225])\n",
        "tfs = transforms.Compose([\n",
        "    transforms.Resize((128, 128)), \n",
        "    transforms.ToTensor(), \n",
        "    transforms.Normalize(*imagenet_stats)\n",
        "])"
      ],
      "metadata": {
        "id": "c8cff6RBzY9U"
      },
      "execution_count": null,
      "outputs": []
    },
    {
      "cell_type": "code",
      "source": [
        "test_dataset = ImageFolder('/content/gdrive/MyDrive/dataset4', tfs)"
      ],
      "metadata": {
        "id": "JMYFuzS1zd5M"
      },
      "execution_count": null,
      "outputs": []
    },
    {
      "cell_type": "code",
      "source": [
        "print(test_dataset.classes) #data 폴더 안에 있음"
      ],
      "metadata": {
        "colab": {
          "base_uri": "https://localhost:8080/"
        },
        "id": "fMLW68rwnj1f",
        "outputId": "b2707210-8357-472d-b3bb-ebefd08682ea"
      },
      "execution_count": null,
      "outputs": [
        {
          "output_type": "stream",
          "name": "stdout",
          "text": [
            "['data']\n"
          ]
        }
      ]
    },
    {
      "cell_type": "code",
      "source": [
        "pltsize = 1\n",
        "plt.figure(figsize = (10*pltsize, pltsize))\n",
        "result = []\n",
        "for i in range(len(test_dataset)):\n",
        "  img, label = test_dataset[i]\n",
        "  plt.subplot(1, 10, i+1)\n",
        "  plt.axis('off')\n",
        "  plt.imshow(img[0], cmap='gray')\n",
        "  predict = dataset.classes[predict_image(img, model)]\n",
        "  plt.title(predict[0:1])\n",
        "  result.append(predict[0:1])\n",
        "  print('Predicted:', predict[0:1])\n",
        "print('captcha result : '+''.join(result))"
      ],
      "metadata": {
        "colab": {
          "base_uri": "https://localhost:8080/",
          "height": 181
        },
        "id": "G6VZn-fGziqW",
        "outputId": "3a2e39a3-e267-46f4-dc19-2cdbf691e723"
      },
      "execution_count": null,
      "outputs": [
        {
          "output_type": "stream",
          "name": "stdout",
          "text": [
            "Predicted: v\n",
            "Predicted: j\n",
            "Predicted: 1\n",
            "Predicted: 2\n",
            "captcha result : vj12\n"
          ]
        },
        {
          "output_type": "display_data",
          "data": {
            "image/png": "[encoded data removed]",
            "text/plain": [
              "<Figure size 720x72 with 4 Axes>"
            ]
          },
          "metadata": {
            "needs_background": "light"
          }
        }
      ]
    }
  ]
}